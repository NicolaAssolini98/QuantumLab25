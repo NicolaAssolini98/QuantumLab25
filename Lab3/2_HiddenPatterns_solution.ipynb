{
 "cells": [
  {
   "cell_type": "markdown",
   "id": "2f0b8c4d-cbed-44b8-8222-264fbd6411cb",
   "metadata": {
    "collapsed": true,
    "jupyter": {
     "outputs_hidden": true
    }
   },
   "source": [
    "# QFT Application: Hidden Patterns\n",
    "\n",
    "Suppose we have a four-qubit quantum register containing one of the three states (A, B, or C):"
   ]
  },
  {
   "cell_type": "code",
   "execution_count": 1,
   "id": "d4ce19bb46f8204a",
   "metadata": {
    "jupyter": {
     "is_executing": true
    }
   },
   "outputs": [],
   "source": [
    "from qiskit import QuantumCircuit, QuantumRegister, ClassicalRegister, transpile\n",
    "import math\n",
    "from qiskit.quantum_info import Statevector\n",
    "from qiskit.visualization import plot_state_city, plot_histogram\n",
    "from math import pi\n",
    "from qiskit_aer import AerSimulator\n",
    "\n",
    "\n",
    "simulator = AerSimulator()\n",
    "\n"
   ]
  },
  {
   "cell_type": "code",
   "execution_count": 2,
   "id": "a2228091-72c9-46cf-a009-ba35b6573c83",
   "metadata": {
    "ExecuteTime": {
     "end_time": "2025-04-14T13:38:37.373330Z",
     "start_time": "2025-04-14T13:38:37.358869Z"
    }
   },
   "outputs": [
    {
     "name": "stdout",
     "output_type": "stream",
     "text": [
      "     ┌───┐┌───────┐\n",
      "q_0: ┤ H ├┤ Rz(π) ├\n",
      "     ├───┤└───────┘\n",
      "q_1: ┤ H ├─────────\n",
      "     ├───┤         \n",
      "q_2: ┤ H ├─────────\n",
      "     ├───┤         \n",
      "q_3: ┤ H ├─────────\n",
      "     └───┘         \n",
      "     ┌───┐┌─────────┐\n",
      "q_0: ┤ H ├┤ Rz(π/2) ├\n",
      "     ├───┤└┬───────┬┘\n",
      "q_1: ┤ H ├─┤ Rz(π) ├─\n",
      "     ├───┤ └───────┘ \n",
      "q_2: ┤ H ├───────────\n",
      "     ├───┤           \n",
      "q_3: ┤ H ├───────────\n",
      "     └───┘           \n",
      "     ┌───┐┌─────────┐\n",
      "q_0: ┤ H ├┤ Rz(π/4) ├\n",
      "     ├───┤├─────────┤\n",
      "q_1: ┤ H ├┤ Rz(π/2) ├\n",
      "     ├───┤└┬───────┬┘\n",
      "q_2: ┤ H ├─┤ Rz(π) ├─\n",
      "     ├───┤ └───────┘ \n",
      "q_3: ┤ H ├───────────\n",
      "     └───┘           \n"
     ]
    }
   ],
   "source": [
    "def sig_a():\n",
    "    A = QuantumCircuit(4, name='prepare A')\n",
    "    for i in range(4):\n",
    "        A.h(i)\n",
    "    A.rz(math.radians(180), 0)\n",
    "    return A\n",
    "\n",
    "def sig_b():\n",
    "    B = QuantumCircuit(4, name='prepare B')\n",
    "    for i in range(4):\n",
    "        B.h(i)\n",
    "    B.rz(math.radians(90), 0)\n",
    "    B.rz(math.radians(180), 1)\n",
    "    return B\n",
    "\n",
    "\n",
    "def sig_c():\n",
    "    C = QuantumCircuit(4, name='Prepare C')\n",
    "    for i in range(4):\n",
    "        C.h(i)\n",
    "    C.rz(math.radians(45), 0)\n",
    "    C.rz(math.radians(90), 1)\n",
    "    C.rz(math.radians(180), 2)\n",
    "    return C\n",
    "\n",
    "print(sig_a().draw())\n",
    "print(sig_b().draw())\n",
    "print(sig_c().draw())"
   ]
  },
  {
   "cell_type": "markdown",
   "id": "ed88dc0d230b33b4",
   "metadata": {},
   "source": [
    "Since the magnitudes of all values in each of these states are the same, the measurement results returns the same distribution for all three states.\n",
    " \n",
    "**Note: here we use `save_statevector` to get the exact probabilities!**"
   ]
  },
  {
   "cell_type": "code",
   "execution_count": 3,
   "id": "a9e18a1f37f76b79",
   "metadata": {
    "ExecuteTime": {
     "end_time": "2025-04-14T13:38:38.332517Z",
     "start_time": "2025-04-14T13:38:37.376340Z"
    }
   },
   "outputs": [
    {
     "data": {
      "image/png": "[encoded data removed]",
      "text/plain": [
       "<Figure size 640x480 with 1 Axes>"
      ]
     },
     "execution_count": 3,
     "metadata": {},
     "output_type": "execute_result"
    }
   ],
   "source": [
    "\n",
    "data = []\n",
    "for sig in [sig_a(), sig_b(), sig_c()]:\n",
    "    qc = QuantumCircuit(4)\n",
    "    qc.append(sig, [0,1,2,3])\n",
    "    qc.save_statevector()\n",
    "    \n",
    "    circ = transpile(qc, simulator)\n",
    "    result = simulator.run(circ).result()\n",
    "    counts = result.get_counts(circ)\n",
    "    data.append(counts)\n",
    "\n",
    "plot_histogram(data)"
   ]
  },
  {
   "cell_type": "markdown",
   "id": "da01ca005242bf29",
   "metadata": {},
   "source": [
    "To distinguish these state we need to use the QFT primitive.\n",
    "\n",
    "#### Solution\n",
    "\n",
    "Use the QFT results obtained by reading the register allow us to precisely identify the initial state!"
   ]
  },
  {
   "cell_type": "code",
   "execution_count": 8,
   "id": "74688cd7705f29b4",
   "metadata": {
    "ExecuteTime": {
     "end_time": "2025-04-14T13:38:38.359607Z",
     "start_time": "2025-04-14T13:38:38.334532Z"
    }
   },
   "outputs": [
    {
     "name": "stdout",
     "output_type": "stream",
     "text": [
      "     ┌────────────┐ ░ ┌──────┐\n",
      "q_0: ┤0           ├─░─┤0     ├\n",
      "     │            │ ░ │      │\n",
      "q_1: ┤1           ├─░─┤1     ├\n",
      "     │  prepare A │ ░ │  QFT │\n",
      "q_2: ┤2           ├─░─┤2     ├\n",
      "     │            │ ░ │      │\n",
      "q_3: ┤3           ├─░─┤3     ├\n",
      "     └────────────┘ ░ └──────┘\n",
      "     ┌────────────┐ ░ ┌──────┐\n",
      "q_0: ┤0           ├─░─┤0     ├\n",
      "     │            │ ░ │      │\n",
      "q_1: ┤1           ├─░─┤1     ├\n",
      "     │  prepare B │ ░ │  QFT │\n",
      "q_2: ┤2           ├─░─┤2     ├\n",
      "     │            │ ░ │      │\n",
      "q_3: ┤3           ├─░─┤3     ├\n",
      "     └────────────┘ ░ └──────┘\n",
      "     ┌────────────┐ ░ ┌──────┐\n",
      "q_0: ┤0           ├─░─┤0     ├\n",
      "     │            │ ░ │      │\n",
      "q_1: ┤1           ├─░─┤1     ├\n",
      "     │  Prepare C │ ░ │  QFT │\n",
      "q_2: ┤2           ├─░─┤2     ├\n",
      "     │            │ ░ │      │\n",
      "q_3: ┤3           ├─░─┤3     ├\n",
      "     └────────────┘ ░ └──────┘\n"
     ]
    }
   ],
   "source": [
    "# First we define the QFT\n",
    "def QFT(n):\n",
    "    q = QuantumRegister(n, name='q')\n",
    "    qft = QuantumCircuit(q, name='QFT')\n",
    "    # QFT with n qubits\n",
    "    # First we apply hadamard and control phase gates\n",
    "    for j in range(n-1,-1,-1):\n",
    "        qft.h(q[j])\n",
    "        for k in range(j):\n",
    "            qft.cp(pi / 2 ** (k + 1), q[j - 1 - k], q[j])\n",
    "        qft.barrier()\n",
    "    # Now finish the QFT by reversing the order of the qubits\n",
    "    for j in range(n//2):\n",
    "        qft.swap(q[j], q[n - j - 1])\n",
    "        \n",
    "    return qft\n",
    "\n",
    "sig_after_qft = []\n",
    "for sig in [sig_a(), sig_b(), sig_c()]:\n",
    "    qc = QuantumCircuit(4)\n",
    "    qc.append(sig, [0,1,2,3])\n",
    "    qc.barrier()\n",
    "    qc.append(QFT(4), [0, 1, 2, 3])\n",
    "    sig_after_qft.append(qc)\n",
    "    \n",
    "for sig in sig_after_qft:\n",
    "    print(sig.draw())"
   ]
  },
  {
   "cell_type": "code",
   "execution_count": 5,
   "id": "348acef4508b2095",
   "metadata": {
    "ExecuteTime": {
     "end_time": "2025-04-14T13:38:38.382383Z",
     "start_time": "2025-04-14T13:38:38.362622Z"
    }
   },
   "outputs": [
    {
     "name": "stdout",
     "output_type": "stream",
     "text": [
      "---\n",
      "(0.000-1.000j)|1000>, prob = 100.0\n",
      "---\n",
      "(-0.707-0.707j)|1100>, prob = 100.0\n",
      "---\n",
      "(-0.924-0.383j)|1110>, prob = 100.0\n"
     ]
    }
   ],
   "source": [
    "\n",
    "\n",
    "for sig in sig_after_qft:\n",
    "    statevector = Statevector(sig)\n",
    "    s = \"\"\n",
    "    prob = 0\n",
    "    for i in range(16):\n",
    "        amp = statevector.data[i]\n",
    "        if abs(amp) > 0.01:\n",
    "            s += f\"({statevector.data[i]:.3f})|{bin(i)[2:].zfill(3)}> + \"\n",
    "            prob += (abs(amp) * abs(amp))\n",
    "    print(\"---\")\n",
    "    print(f\"{s[:-3]}, prob = {round(prob * 100, 5)}\")\n",
    "    \n",
    "\n",
    "\n",
    "\n"
   ]
  },
  {
   "cell_type": "markdown",
   "id": "7e9cf980cb06d5d3",
   "metadata": {},
   "source": [
    "Finally, we can execute the circuit with the measurement obtaining:"
   ]
  },
  {
   "cell_type": "code",
   "execution_count": 6,
   "id": "68731625d8cc26dd",
   "metadata": {
    "ExecuteTime": {
     "end_time": "2025-04-14T13:38:38.818709Z",
     "start_time": "2025-04-14T13:38:38.384388Z"
    }
   },
   "outputs": [
    {
     "name": "stdout",
     "output_type": "stream",
     "text": [
      "        ┌────────────┐┌──────┐ ░ ┌─┐         \n",
      "   q_0: ┤0           ├┤0     ├─░─┤M├─────────\n",
      "        │            ││      │ ░ └╥┘┌─┐      \n",
      "   q_1: ┤1           ├┤1     ├─░──╫─┤M├──────\n",
      "        │  prepare A ││  QFT │ ░  ║ └╥┘┌─┐   \n",
      "   q_2: ┤2           ├┤2     ├─░──╫──╫─┤M├───\n",
      "        │            ││      │ ░  ║  ║ └╥┘┌─┐\n",
      "   q_3: ┤3           ├┤3     ├─░──╫──╫──╫─┤M├\n",
      "        └────────────┘└──────┘ ░  ║  ║  ║ └╥┘\n",
      "meas: 4/══════════════════════════╩══╩══╩══╩═\n",
      "                                  0  1  2  3 \n",
      "        ┌────────────┐┌──────┐ ░ ┌─┐         \n",
      "   q_0: ┤0           ├┤0     ├─░─┤M├─────────\n",
      "        │            ││      │ ░ └╥┘┌─┐      \n",
      "   q_1: ┤1           ├┤1     ├─░──╫─┤M├──────\n",
      "        │  prepare B ││  QFT │ ░  ║ └╥┘┌─┐   \n",
      "   q_2: ┤2           ├┤2     ├─░──╫──╫─┤M├───\n",
      "        │            ││      │ ░  ║  ║ └╥┘┌─┐\n",
      "   q_3: ┤3           ├┤3     ├─░──╫──╫──╫─┤M├\n",
      "        └────────────┘└──────┘ ░  ║  ║  ║ └╥┘\n",
      "meas: 4/══════════════════════════╩══╩══╩══╩═\n",
      "                                  0  1  2  3 \n",
      "        ┌────────────┐┌──────┐ ░ ┌─┐         \n",
      "   q_0: ┤0           ├┤0     ├─░─┤M├─────────\n",
      "        │            ││      │ ░ └╥┘┌─┐      \n",
      "   q_1: ┤1           ├┤1     ├─░──╫─┤M├──────\n",
      "        │  Prepare C ││  QFT │ ░  ║ └╥┘┌─┐   \n",
      "   q_2: ┤2           ├┤2     ├─░──╫──╫─┤M├───\n",
      "        │            ││      │ ░  ║  ║ └╥┘┌─┐\n",
      "   q_3: ┤3           ├┤3     ├─░──╫──╫──╫─┤M├\n",
      "        └────────────┘└──────┘ ░  ║  ║  ║ └╥┘\n",
      "meas: 4/══════════════════════════╩══╩══╩══╩═\n",
      "                                  0  1  2  3 \n"
     ]
    },
    {
     "data": {
      "image/png": "[encoded data removed]",
      "text/plain": [
       "<Figure size 640x480 with 1 Axes>"
      ]
     },
     "execution_count": 6,
     "metadata": {},
     "output_type": "execute_result"
    }
   ],
   "source": [
    "simulator = AerSimulator()\n",
    "\n",
    "data = []\n",
    "for sig in sig_after_qft:\n",
    "    qc = sig.copy()\n",
    "    qc.measure_all()\n",
    "    print(qc.draw())\n",
    "    circ = transpile(qc, simulator)\n",
    "    result = simulator.run(circ).result()\n",
    "    counts = result.get_counts(circ)\n",
    "    data.append(counts)\n",
    "\n",
    "plot_histogram(data)"
   ]
  },
  {
   "cell_type": "markdown",
   "id": "7068ba999cf8f984",
   "metadata": {},
   "source": [
    "After having adding the QFT, we can check the state of our tree signal"
   ]
  }
 ],
 "metadata": {
  "kernelspec": {
   "display_name": "Python 3 (ipykernel)",
   "language": "python",
   "name": "python3"
  },
  "language_info": {
   "codemirror_mode": {
    "name": "ipython",
    "version": 3
   },
   "file_extension": ".py",
   "mimetype": "text/x-python",
   "name": "python",
   "nbconvert_exporter": "python",
   "pygments_lexer": "ipython3",
   "version": "3.12.10"
  }
 },
 "nbformat": 4,
 "nbformat_minor": 5
}
