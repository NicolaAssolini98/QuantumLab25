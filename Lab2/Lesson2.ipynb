{
 "cells": [
  {
   "cell_type": "markdown",
   "id": "457e0c1049ebc4b3",
   "metadata": {
    "collapsed": false,
    "jupyter": {
     "outputs_hidden": false
    }
   },
   "source": [
    "# Deutsch's Algorithm\n",
    "\n",
    "You are given an unknown balanced $f$ which is either constant or balanced. Determine if the function is constant or balanced. \n",
    "\n",
    "\n",
    "<img src=\"Image/img_1.png\" width=600 />\n",
    "\n",
    "\n",
    "The measure is $1$ with a probability of $1$ if the function is balanced and  is $0$ with a probability of $1$ if the function is constant. "
   ]
  },
  {
   "cell_type": "markdown",
   "id": "8fadcdd883a0a929",
   "metadata": {
    "collapsed": false,
    "jupyter": {
     "outputs_hidden": false
    }
   },
   "source": [
    "Let's consider the case in wich $n = 2$\n",
    "\n",
    "\n",
    "### Constant Function\n",
    "\n",
    "Consider the constant function: \n",
    "$$\n",
    "f(00)=1,$$ $$\n",
    "f(01)=1,$$ $$\n",
    "f(10)=1,$$ $$\n",
    "f(11)=1\n",
    "$$\n",
    "\n",
    "Try to implement the algorith:\n"
   ]
  },
  {
   "cell_type": "code",
   "id": "aa088e5d1bf81451",
   "metadata": {
    "collapsed": false,
    "jupyter": {
     "outputs_hidden": false
    },
    "ExecuteTime": {
     "end_time": "2025-04-04T16:42:09.774384Z",
     "start_time": "2025-04-04T16:42:08.229303Z"
    }
   },
   "source": [
    "from qiskit import QuantumCircuit, QuantumRegister, ClassicalRegister\n",
    "\n",
    "\n",
    "def constant_oracle():\n",
    "    oracle = QuantumCircuit(3, name = 'constant oracle')\n",
    "    # TODO ...\n",
    "    \n",
    "    return oracle\n",
    "\n",
    "\n",
    "x = QuantumRegister(2, name='x')\n",
    "y = QuantumRegister(1, name='y')\n",
    "r = ClassicalRegister(1, name='r')\n",
    "circ_const = QuantumCircuit(x,y,r)\n",
    "# TODO ...\n",
    "circ_const.append(constant_oracle(),[x[0],x[1],y])\n",
    "# TODO ...\n",
    "\n",
    "\n",
    "circ_const.draw('mpl')\n",
    "    "
   ],
   "outputs": [
    {
     "data": {
      "text/plain": [
       "<Figure size 369.704x367.889 with 1 Axes>"
      ],
      "image/png": "[encoded data removed]"
     },
     "execution_count": 1,
     "metadata": {},
     "output_type": "execute_result"
    }
   ],
   "execution_count": 1
  },
  {
   "cell_type": "markdown",
   "id": "c07e836098f4a6c4",
   "metadata": {
    "collapsed": false,
    "jupyter": {
     "outputs_hidden": false
    }
   },
   "source": [
    "### Balance Function\n",
    "\n",
    "Consider the constant function: \n",
    "$$\n",
    "f(00)=1,\n",
    "$$ $$\n",
    "f(01)=0,\n",
    "$$ $$\n",
    "f(10)=0, \n",
    "$$ $$\n",
    "f(11)=1\n",
    "$$\n",
    "\n",
    "Try to implement the algorith:\n"
   ]
  },
  {
   "cell_type": "code",
   "id": "37cc04adb8594d46",
   "metadata": {
    "collapsed": false,
    "jupyter": {
     "outputs_hidden": false
    },
    "ExecuteTime": {
     "end_time": "2025-04-04T16:42:09.785902Z",
     "start_time": "2025-04-04T16:42:09.778412Z"
    }
   },
   "source": [
    "# TODO...\n",
    "    "
   ],
   "outputs": [],
   "execution_count": 2
  }
 ],
 "metadata": {
  "kernelspec": {
   "display_name": "Python 3 (ipykernel)",
   "language": "python",
   "name": "python3"
  },
  "language_info": {
   "codemirror_mode": {
    "name": "ipython",
    "version": 3
   },
   "file_extension": ".py",
   "mimetype": "text/x-python",
   "name": "python",
   "nbconvert_exporter": "python",
   "pygments_lexer": "ipython3",
   "version": "3.12.9"
  }
 },
 "nbformat": 4,
 "nbformat_minor": 5
}
