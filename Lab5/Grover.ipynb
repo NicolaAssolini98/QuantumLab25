{
 "cells": [
  {
   "cell_type": "markdown",
   "metadata": {},
   "source": [
    "# Grover\\'s Algorithm\n",
    "$\\newcommand{\\ket}[1]{\\left|{#1}\\right\\rangle} \\newcommand{\\bra}[1]{\\left\\langle{#1}\\right|}$\n",
    "\n",
    "\n",
    "Grover\\'s algorithm is an oracle-based quantum algorithm, proposed by Lov Grover. \n",
    "In the original description, the author approaches the following problem: suppose that we are searching for a specific phone number in a randomly-ordered catalogue containing $N$ entries. \n",
    "To find such a number with a probability of $\\frac{1}{2},$ a classical algorithm will need to check the list on average $\\frac{N}{2}$ times.\n",
    "\n",
    "In other words, the problem is defined by searching for an item on a list with $N$ items given an Oracle access function $f(x).$ \n",
    "This function has the defining property that $f(x) = 1$ if $x$ is the item we are looking for, and $f(x) = 0$ otherwise. \n",
    "The solution to this black-box search problem is proposed as a quantum algorithm that performs $O(\\sqrt{N})$ oracular queries to the list with a high probability of finding the answer, whereas any classical algorithm would require $O(N)$ queries.\n",
    "\n"
   ]
  },
  {
   "cell_type": "markdown",
   "metadata": {},
   "source": [
    "-----------------------------------------------------\n",
    "##### The problem\n",
    "*Input*: A black box $U_f$ for computing an unknown function $f: \\{0,1\\}^n \\to \\{0, 1\\} $\n",
    "\n",
    "*Output*: An index $x$ such that $f(x) = 1$.\n",
    "\n",
    "----------------------------------------------------"
   ]
  },
  {
   "cell_type": "markdown",
   "metadata": {},
   "source": [
    "The algorithm can be broken down into the following steps:\n",
    "\n",
    "1. Prepare the initial state (Apply Hadamard gates to all wires)\n",
    "2. Repeat the Grover operator approximately $\\frac{\\pi}{4}\\sqrt{N}$ times:\n",
    "    - Apply the oracle\n",
    "    - Apply the Grover diffusion operator\n",
    "3. Apply Hadamard gates to all wires\n",
    "4. Measure\n",
    "\n",
    "\n",
    "We can visualize the algorithm as follows:\n",
    "\n",
    "<img src=\"Image/grover circ.png\"  width = 600/>\n",
    "\n",
    "where the grover operator G is defined as:\n",
    "\n",
    "<img src=\"Image/G.png\" alt=\"Grover's operator\" width = 600/>\n"
   ]
  },
  {
   "cell_type": "markdown",
   "metadata": {},
   "source": [
    "## Defining the Oracle\n",
    "\n",
    "Suppose we have a function $f$ representing our search problem (i.e., $f(x) = 1$ if $x$ is the solution of the search problem, $f(x) = 0$ otherwise). \n",
    "\n",
    "The oracle is a unitary operator $O$ acting in the following way:\n",
    "$$ \\ket{x}\\ket{q} \\to^{O} \\ket{x}\\ket{q \\oplus f(x)} $$\n",
    "\n",
    "\n",
    "\n",
    "### Example of an Oracle\n",
    "\n",
    "Let us consider a simple example of an oracle that marks a particular state.\n",
    "\n",
    "\n",
    "These are the oracles of the form of $f_i(x) = \\begin{cases} 1 & x = i \\\\ 0, & x \\neq i \\end{cases}$ for $i = 0, 1, 2, 3$.\n",
    "\n",
    "For instance, for two qubits we have:\n",
    "\n",
    "<img src=\"Image/oracle.png\" alt=\"Oracle\" width = 600/>"
   ]
  },
  {
   "cell_type": "code",
   "metadata": {
    "ExecuteTime": {
     "end_time": "2025-04-28T08:30:05.528244Z",
     "start_time": "2025-04-28T08:30:05.407489Z"
    }
   },
   "source": [
    "import numpy as np\n",
    "from qiskit.circuit.library import XGate\n",
    "from qiskit import QuantumCircuit\n",
    "\n",
    "def create_f_oracle(marked, N):\n",
    "    qc = QuantumCircuit(N+1, name=f\"Oracle {marked}\")\n",
    "    marked_base2 = format(marked, f'0{N}b') \n",
    "    # reverse the order: the least significant qubit is the first one\n",
    "    marked_base2 = marked_base2[::-1] \n",
    "    for i in range(N): # apply the NOT gates\n",
    "        if marked_base2[i] == '0':\n",
    "            qc.x(i)\n",
    "    # apply the multiple controlled NOT. Alternative: .mct\n",
    "    qc.append(XGate().control(N), range(N+1)) \n",
    "    for i in range(N): # reverse the previous NOTs\n",
    "        if marked_base2[i] == '0':\n",
    "            qc.x(i)\n",
    "    return qc\n",
    "\n",
    "create_f_oracle(1, 3).draw('mpl')"
   ],
   "outputs": [
    {
     "data": {
      "text/plain": [
       "<Figure size 371.107x367.889 with 1 Axes>"
      ],
      "image/png": "[encoded data removed]"
     },
     "execution_count": 7,
     "metadata": {},
     "output_type": "execute_result"
    }
   ],
   "execution_count": 7
  },
  {
   "cell_type": "markdown",
   "metadata": {},
   "source": [
    "We can test the oracle by applying it to a uniform superposition"
   ]
  },
  {
   "cell_type": "code",
   "metadata": {
    "ExecuteTime": {
     "end_time": "2025-04-28T08:30:05.851245Z",
     "start_time": "2025-04-28T08:30:05.532579Z"
    }
   },
   "source": [
    "from qiskit import transpile\n",
    "from qiskit_aer import AerSimulator\n",
    "from qiskit.visualization import plot_histogram\n",
    "\n",
    "N = 3\n",
    "\n",
    "num = 3\n",
    "\n",
    "qc = QuantumCircuit(N+1)\n",
    "\n",
    "qc.h(range(N)) # create the uniform superposition\n",
    "qc.append(create_f_oracle(num, N), range(N+1)) # apply the oracle\n",
    "qc.measure_all()\n",
    "\n",
    "simulator = AerSimulator()\n",
    "    \n",
    "circ = transpile(qc, simulator)\n",
    "result = simulator.run(circ).result()\n",
    "counts = result.get_counts(circ)\n",
    "plot_histogram(counts)\n"
   ],
   "outputs": [
    {
     "data": {
      "text/plain": [
       "<Figure size 640x480 with 1 Axes>"
      ],
      "image/png": "[encoded data removed]"
     },
     "execution_count": 8,
     "metadata": {},
     "output_type": "execute_result"
    }
   ],
   "execution_count": 8
  },
  {
   "cell_type": "markdown",
   "metadata": {},
   "source": [
    "## Grover Diffusion Operator\n",
    "\n",
    "Now we need to amplificate the amplitude of the good state.\n",
    "\n",
    "When $\\ket{q} = \\ket{-}$, the action of the oracle is:\n",
    "$$ \\ket{x}\\ket{-} \\to^{O} (-1)^{f(x)}\\ket{x}\\ket{-} $$\n",
    "Thus, the action of the oracle might be written as:\n",
    "$$ \\ket{x} \\to^{O} (-1)^{f(x)}\\ket{x} $$\n",
    "\n",
    "To perform the amplification, we need to apply the Grover diffusion operator.\n",
    "The Grover diffusion operator is defined as:\n",
    "$$ G = 2\\ketbra{s} - I = H^{\\otimes n} (2\\ketbra{0}{0} - I) H^{\\otimes n}$$\n",
    "\n",
    "where $\\ket{s}$ is the uniform superposition of all states.\n",
    "\n",
    "The diffusion operator can be implemented as follows:\n",
    "\n",
    "<img src=\"Image/grover_diffusion.png\" alt=\"Diffusion operator\" width = 400/>"
   ]
  },
  {
   "cell_type": "code",
   "metadata": {
    "ExecuteTime": {
     "end_time": "2025-04-28T08:30:05.969356Z",
     "start_time": "2025-04-28T08:30:05.851245Z"
    }
   },
   "source": [
    "from qiskit.circuit.library import ZGate\n",
    "\n",
    "\n",
    "def create_diffusion_operator(N):\n",
    "    qc = QuantumCircuit(N, name=\"Diff\")\n",
    "    qc.h(range(N))\n",
    "    qc.x(range(N))\n",
    "    qc.append(ZGate().control(N-1), range(N))\n",
    "    qc.x(range(N))\n",
    "    qc.h(range(N))\n",
    "    return qc\n",
    "\n",
    "qc = create_diffusion_operator(4)\n",
    "qc.draw('mpl')"
   ],
   "outputs": [
    {
     "data": {
      "text/plain": [
       "<Figure size 538.33x367.889 with 1 Axes>"
      ],
      "image/png": "[encoded data removed]"
     },
     "execution_count": 9,
     "metadata": {},
     "output_type": "execute_result"
    }
   ],
   "execution_count": 9
  },
  {
   "cell_type": "markdown",
   "metadata": {},
   "source": [
    "## Putting all together\n",
    "\n",
    "Let us now put all the pieces together and implement Grover's algorithm."
   ]
  },
  {
   "cell_type": "code",
   "metadata": {
    "collapsed": false,
    "jupyter": {
     "outputs_hidden": false
    },
    "ExecuteTime": {
     "end_time": "2025-04-28T08:31:16.160802Z",
     "start_time": "2025-04-28T08:31:16.030202Z"
    }
   },
   "source": [
    "\n",
    "\n",
    "\n",
    "\n",
    "import math\n",
    "\n",
    "\n",
    "def create_grover_circuit(num_qbits, marked):\n",
    "    assert marked in range(2**num_qbits)\n",
    "\n",
    "\n",
    "    grover = QuantumCircuit(num_qbits+1, num_qbits)\n",
    "\n",
    "    grover.x(num_qbits) # create the |0> state\n",
    "\n",
    "    grover.h(range(num_qbits+1)) # create the uniform superposition\n",
    "\n",
    "    grover.barrier()\n",
    "    \n",
    "    oracle = create_f_oracle(marked, num_qbits) # Create the oracle\n",
    "    \n",
    "    diffusion = create_diffusion_operator(num_qbits) # Create the diffusion operator\n",
    "    \n",
    "    R = int(np.round(np.sqrt(num_qbits) * np.pi / 4))\n",
    "    \n",
    "    for i in range(R):\n",
    "        \n",
    "        grover.append(oracle, range(num_qbits+1))\n",
    "        grover.barrier()\n",
    "        grover.append(diffusion, range(num_qbits))\n",
    "        grover.barrier()\n",
    "        \n",
    "    #grover.h(range(num_qbits+1)) # Apply Hadamard gates to all wires\n",
    "        \n",
    "    \n",
    "    # grover.save_statevector()\n",
    "    grover.measure(range(num_qbits), range(num_qbits))\n",
    "    \n",
    "    return grover\n",
    "\n",
    "\n",
    "\n",
    "# create_grover_circuit(2,0).decompose().draw('mpl')\n",
    "create_grover_circuit(2,0).draw('mpl')\n"
   ],
   "outputs": [
    {
     "data": {
      "text/plain": [
       "<Figure size 956.385x367.889 with 1 Axes>"
      ],
      "image/png": "[encoded data removed]"
     },
     "execution_count": 14,
     "metadata": {},
     "output_type": "execute_result"
    }
   ],
   "execution_count": 14
  },
  {
   "cell_type": "markdown",
   "metadata": {},
   "source": [
    "Let\\'s use a bar plot to better visualize the initial state amplitudes:\n"
   ]
  },
  {
   "cell_type": "code",
   "metadata": {
    "collapsed": false,
    "jupyter": {
     "outputs_hidden": false
    },
    "ExecuteTime": {
     "end_time": "2025-04-28T08:33:02.056594Z",
     "start_time": "2025-04-28T08:33:01.854730Z"
    }
   },
   "source": [
    "\n",
    "qc = create_grover_circuit(2,0)\n",
    "print(qc.draw())\n",
    "# print(qc.decompose().draw())\n",
    "circ = transpile(qc, simulator)\n",
    "result = simulator.run(circ).result()\n",
    "# print(result.get_statevector(circ).data)\n",
    "counts = result.get_counts(circ)\n",
    "plot_histogram(counts)"
   ],
   "outputs": [
    {
     "name": "stdout",
     "output_type": "stream",
     "text": [
      "     ┌───┐      ░ ┌───────────┐ ░ ┌───────┐ ░ ┌─┐   \n",
      "q_0: ┤ H ├──────░─┤0          ├─░─┤0      ├─░─┤M├───\n",
      "     ├───┤      ░ │           │ ░ │  Diff │ ░ └╥┘┌─┐\n",
      "q_1: ┤ H ├──────░─┤1 Oracle 0 ├─░─┤1      ├─░──╫─┤M├\n",
      "     ├───┤┌───┐ ░ │           │ ░ └───────┘ ░  ║ └╥┘\n",
      "q_2: ┤ X ├┤ H ├─░─┤2          ├─░───────────░──╫──╫─\n",
      "     └───┘└───┘ ░ └───────────┘ ░           ░  ║  ║ \n",
      "c: 2/══════════════════════════════════════════╩══╩═\n",
      "                                               0  1 \n",
      "      ┌─────────┐             ░ ┌───┐     ┌───┐ ░ ┌───┐┌───┐   ┌───┐┌───┐ ░ ┌─┐»\n",
      "q_0: ─┤ U2(0,π) ├─────────────░─┤ X ├──■──┤ X ├─░─┤ H ├┤ X ├─■─┤ X ├┤ H ├─░─┤M├»\n",
      "      ├─────────┤             ░ ├───┤  │  ├───┤ ░ ├───┤├───┤ │ ├───┤├───┤ ░ └╥┘»\n",
      "q_1: ─┤ U2(0,π) ├─────────────░─┤ X ├──■──┤ X ├─░─┤ H ├┤ X ├─■─┤ X ├┤ H ├─░──╫─»\n",
      "     ┌┴─────────┴┐┌─────────┐ ░ └───┘┌─┴─┐└───┘ ░ └───┘└───┘   └───┘└───┘ ░  ║ »\n",
      "q_2: ┤ U3(π,0,π) ├┤ U2(0,π) ├─░──────┤ X ├──────░─────────────────────────░──╫─»\n",
      "     └───────────┘└─────────┘ ░      └───┘      ░                         ░  ║ »\n",
      "c: 2/════════════════════════════════════════════════════════════════════════╩═»\n",
      "                                                                             0 »\n",
      "«        \n",
      "«q_0: ───\n",
      "«     ┌─┐\n",
      "«q_1: ┤M├\n",
      "«     └╥┘\n",
      "«q_2: ─╫─\n",
      "«      ║ \n",
      "«c: 2/═╩═\n",
      "«      1 \n"
     ]
    },
    {
     "data": {
      "text/plain": [
       "<Figure size 640x480 with 1 Axes>"
      ],
      "image/png": "[encoded data removed]"
     },
     "execution_count": 16,
     "metadata": {},
     "output_type": "execute_result"
    }
   ],
   "execution_count": 16
  },
  {
   "metadata": {
    "ExecuteTime": {
     "end_time": "2025-04-28T08:30:06.350185Z",
     "start_time": "2025-04-28T08:30:06.346941Z"
    }
   },
   "cell_type": "code",
   "source": "",
   "outputs": [],
   "execution_count": 11
  }
 ],
 "metadata": {
  "kernelspec": {
   "display_name": "Python 3 (ipykernel)",
   "language": "python",
   "name": "python3"
  },
  "language_info": {
   "codemirror_mode": {
    "name": "ipython",
    "version": 3
   },
   "file_extension": ".py",
   "mimetype": "text/x-python",
   "name": "python",
   "nbconvert_exporter": "python",
   "pygments_lexer": "ipython3",
   "version": "3.12.10"
  }
 },
 "nbformat": 4,
 "nbformat_minor": 4
}
